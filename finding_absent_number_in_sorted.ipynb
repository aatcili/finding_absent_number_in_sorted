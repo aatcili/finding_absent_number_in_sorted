{
  "cells": [
    {
      "cell_type": "code",
      "execution_count": 5,
      "metadata": {},
      "outputs": [],
      "source": [
        "\"\"\"Bir liste veriliyor. Bu listede sıralı olmayan ilk elemanın bulunması isteniyor\n",
        "Örnek a = [1,2,3,5,6] cevap olarak 4 verecek. Ayrıca:\n",
        "a=[1,2,3,4] olması durumunda sonuc olarak 5 üretecek\n",
        "a=[-1,-2] gibi tüm elemanların negatif olması durumunda sonuc olarak 1 verecek \n",
        "\n",
        "\n",
        "Write a function:\n",
        "\n",
        "def solution(A)\n",
        "\n",
        "that, given an array A of N integers, returns the smallest positive integer (greater than 0) \n",
        "that does not occur in A.\n",
        "\n",
        "For example, given A = [1, 3, 6, 4, 1, 2], the function should return 5.\n",
        "Given A = [1, 2, 3], the function should return 4.\n",
        "Given A = [−1, −3], the function should return 1.\n",
        "\n",
        "Write an efficient algorithm for the following assumptions:\n",
        "\n",
        "-N is an integer within the range [1..100,000];\n",
        "-each element of array A is an integer within the range [−1,000,000..1,000,000].\n",
        "\n",
        "\"\"\"\n",
        "\n",
        "\n",
        "\n",
        "def solution(A):\n",
        "    A = sorted(set(A))\n",
        "    #print(A)\n",
        "    A = [i for i in  A if i>0]\n",
        "    if A== []:\n",
        "        return 1\n",
        "    else:\n",
        "        for i in range(len(A)):\n",
        "            if i+1 == A[i]:\n",
        "                pass\n",
        "            else:\n",
        "                print(\"bosluk olan sayı\", i+1)\n",
        "                break\n",
        "            if i+1 == len(A):\n",
        "                print(\"biten liste\", i+2)"
      ]
    },
    {
      "cell_type": "code",
      "execution_count": 6,
      "metadata": {},
      "outputs": [
        {
          "name": "stdout",
          "output_type": "stream",
          "text": [
            "bosluk olan sayı 5\n"
          ]
        }
      ],
      "source": [
        "A =[1, 3, 6, 4, 1, 2]\n",
        "solution(A)"
      ]
    },
    {
      "cell_type": "code",
      "execution_count": 7,
      "metadata": {},
      "outputs": [
        {
          "name": "stdout",
          "output_type": "stream",
          "text": [
            "biten liste 4\n"
          ]
        }
      ],
      "source": [
        "A =[1, 2,3]\n",
        "solution(A)"
      ]
    },
    {
      "cell_type": "code",
      "execution_count": 8,
      "metadata": {},
      "outputs": [
        {
          "data": {
            "text/plain": [
              "1"
            ]
          },
          "execution_count": 8,
          "metadata": {},
          "output_type": "execute_result"
        }
      ],
      "source": [
        "A =[-1,- 2,-3]\n",
        "solution(A)"
      ]
    }
  ],
  "metadata": {
    "colab": {
      "name": "LinearRegresyonACD.ipynb",
      "provenance": []
    },
    "kernelspec": {
      "display_name": "Python 3",
      "language": "python",
      "name": "python3"
    },
    "language_info": {
      "codemirror_mode": {
        "name": "ipython",
        "version": 3
      },
      "file_extension": ".py",
      "mimetype": "text/x-python",
      "name": "python",
      "nbconvert_exporter": "python",
      "pygments_lexer": "ipython3",
      "version": "3.9.9"
    }
  },
  "nbformat": 4,
  "nbformat_minor": 0
}
